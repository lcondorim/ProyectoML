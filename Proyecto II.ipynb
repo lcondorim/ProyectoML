{
 "cells": [
  {
   "cell_type": "code",
   "execution_count": 3,
   "id": "4d7efff4",
   "metadata": {},
   "outputs": [],
   "source": [
    "import pyodbc\n",
    "\n",
    "conn = pyodbc.connect('DRIVER={ODBC Driver 17 for SQL Server};'\n",
    "                      'SERVER=localhost;'\n",
    "                      'DATABASE=PROYECTO;'\n",
    "                      'UID=sa;'\n",
    "                      'PWD=Covid2021;')\n",
    "\n",
    "cursor = conn.cursor()"
   ]
  },
  {
   "cell_type": "code",
   "execution_count": 4,
   "id": "0ca1eddf",
   "metadata": {},
   "outputs": [],
   "source": [
    "import pandas as pd"
   ]
  },
  {
   "cell_type": "code",
   "execution_count": 5,
   "id": "dcefce7d",
   "metadata": {},
   "outputs": [
    {
     "data": {
      "text/html": [
       "<div>\n",
       "<style scoped>\n",
       "    .dataframe tbody tr th:only-of-type {\n",
       "        vertical-align: middle;\n",
       "    }\n",
       "\n",
       "    .dataframe tbody tr th {\n",
       "        vertical-align: top;\n",
       "    }\n",
       "\n",
       "    .dataframe thead th {\n",
       "        text-align: right;\n",
       "    }\n",
       "</style>\n",
       "<table border=\"1\" class=\"dataframe\">\n",
       "  <thead>\n",
       "    <tr style=\"text-align: right;\">\n",
       "      <th></th>\n",
       "      <th>ID_CLIENTE</th>\n",
       "      <th>RUC</th>\n",
       "      <th>RAZON_SOCIAL</th>\n",
       "      <th>ACTIVIDAD_ECONOMICA</th>\n",
       "      <th>BANCA</th>\n",
       "      <th>ID_RATING</th>\n",
       "      <th>ID_GRADO_SEGUIMIENTO</th>\n",
       "      <th>ID_CLIENTE_NEGATIVO</th>\n",
       "      <th>ID_RIESGO_COVID</th>\n",
       "      <th>ID_RIESGO_POLITICO</th>\n",
       "    </tr>\n",
       "  </thead>\n",
       "  <tbody>\n",
       "    <tr>\n",
       "      <th>0</th>\n",
       "      <td>1</td>\n",
       "      <td>20552103816</td>\n",
       "      <td>AGROLIGHT PERU S.A.C.</td>\n",
       "      <td>ELAB. FRUTAS, LEG. Y HORTALIZAS.</td>\n",
       "      <td>BE</td>\n",
       "      <td>1</td>\n",
       "      <td>1</td>\n",
       "      <td>1</td>\n",
       "      <td>1</td>\n",
       "      <td>1</td>\n",
       "    </tr>\n",
       "    <tr>\n",
       "      <th>1</th>\n",
       "      <td>2</td>\n",
       "      <td>20538856674</td>\n",
       "      <td>ARTROSCOPICTRAUMA S.A.C.</td>\n",
       "      <td>OTRAS ACTIV.RELAC. CON SALUD HUMANA</td>\n",
       "      <td>BE</td>\n",
       "      <td>2</td>\n",
       "      <td>1</td>\n",
       "      <td>2</td>\n",
       "      <td>2</td>\n",
       "      <td>1</td>\n",
       "    </tr>\n",
       "    <tr>\n",
       "      <th>2</th>\n",
       "      <td>3</td>\n",
       "      <td>20553856451</td>\n",
       "      <td>BI GRAND CONFECCIONES S.A.C.</td>\n",
       "      <td>FAB. DE PRENDAS DE VESTIR.</td>\n",
       "      <td>BE</td>\n",
       "      <td>1</td>\n",
       "      <td>2</td>\n",
       "      <td>1</td>\n",
       "      <td>1</td>\n",
       "      <td>2</td>\n",
       "    </tr>\n",
       "  </tbody>\n",
       "</table>\n",
       "</div>"
      ],
      "text/plain": [
       "   ID_CLIENTE          RUC                  RAZON_SOCIAL  \\\n",
       "0           1  20552103816         AGROLIGHT PERU S.A.C.   \n",
       "1           2  20538856674      ARTROSCOPICTRAUMA S.A.C.   \n",
       "2           3  20553856451  BI GRAND CONFECCIONES S.A.C.   \n",
       "\n",
       "                   ACTIVIDAD_ECONOMICA BANCA  ID_RATING  ID_GRADO_SEGUIMIENTO  \\\n",
       "0     ELAB. FRUTAS, LEG. Y HORTALIZAS.    BE          1                     1   \n",
       "1  OTRAS ACTIV.RELAC. CON SALUD HUMANA    BE          2                     1   \n",
       "2           FAB. DE PRENDAS DE VESTIR.    BE          1                     2   \n",
       "\n",
       "   ID_CLIENTE_NEGATIVO  ID_RIESGO_COVID  ID_RIESGO_POLITICO  \n",
       "0                    1                1                   1  \n",
       "1                    2                2                   1  \n",
       "2                    1                1                   2  "
      ]
     },
     "execution_count": 5,
     "metadata": {},
     "output_type": "execute_result"
    }
   ],
   "source": [
    "SQL_Query = pd.read_sql_query('''SELECT * FROM PROYECTO..MD_CLIENTE''', conn)\n",
    "data = pd.DataFrame(SQL_Query)\n",
    "data.head(3)"
   ]
  },
  {
   "cell_type": "code",
   "execution_count": 1,
   "id": "4eea6966",
   "metadata": {},
   "outputs": [
    {
     "name": "stdout",
     "output_type": "stream",
     "text": [
      "prueba\n"
     ]
    }
   ],
   "source": [
    "print(\"pruebasss\")"
   ]
  },
  {
   "cell_type": "code",
   "execution_count": null,
   "id": "a5554f5e",
   "metadata": {},
   "outputs": [],
   "source": []
  },
  {
   "cell_type": "code",
   "execution_count": null,
   "id": "697391dd",
   "metadata": {},
   "outputs": [],
   "source": []
  }
 ],
 "metadata": {
  "kernelspec": {
   "display_name": "Python 3 (ipykernel)",
   "language": "python",
   "name": "python3"
  },
  "language_info": {
   "codemirror_mode": {
    "name": "ipython",
    "version": 3
   },
   "file_extension": ".py",
   "mimetype": "text/x-python",
   "name": "python",
   "nbconvert_exporter": "python",
   "pygments_lexer": "ipython3",
   "version": "3.9.7"
  }
 },
 "nbformat": 4,
 "nbformat_minor": 5
}

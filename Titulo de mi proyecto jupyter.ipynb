{
 "cells": [
  {
   "cell_type": "code",
   "execution_count": 1,
   "id": "78125c41",
   "metadata": {},
   "outputs": [
    {
     "name": "stdout",
     "output_type": "stream",
     "text": [
      "Este es una prueba para github\n"
     ]
    }
   ],
   "source": [
    "print(\"Este es una prueba para github\")"
   ]
  },
  {
   "cell_type": "code",
   "execution_count": 1,
   "id": "db3c193c",
   "metadata": {},
   "outputs": [
    {
     "name": "stdout",
     "output_type": "stream",
     "text": [
      "Esta es una segunda prueba para github\n"
     ]
    }
   ],
   "source": [
    "print(\"Esta es una segunda prueba para github\")"
   ]
  },
  {
   "cell_type": "code",
   "execution_count": 1,
   "id": "45346d69",
   "metadata": {},
   "outputs": [
    {
     "name": "stdout",
     "output_type": "stream",
     "text": [
      "esta es una tercera prueba para gh\n"
     ]
    }
   ],
   "source": [
    "print(\"esta es una tercera prueba para gh\")"
   ]
  },
  {
   "cell_type": "code",
   "execution_count": null,
   "id": "1dd5d4f3",
   "metadata": {},
   "outputs": [],
   "source": []
  }
 ],
 "metadata": {
  "kernelspec": {
   "display_name": "Python 3 (ipykernel)",
   "language": "python",
   "name": "python3"
  },
  "language_info": {
   "codemirror_mode": {
    "name": "ipython",
    "version": 3
   },
   "file_extension": ".py",
   "mimetype": "text/x-python",
   "name": "python",
   "nbconvert_exporter": "python",
   "pygments_lexer": "ipython3",
   "version": "3.9.7"
  }
 },
 "nbformat": 4,
 "nbformat_minor": 5
}
